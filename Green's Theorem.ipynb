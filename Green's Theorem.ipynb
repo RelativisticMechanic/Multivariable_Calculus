{
 "cells": [
  {
   "cell_type": "markdown",
   "id": "b8946f5a",
   "metadata": {},
   "source": [
    "# Green's Theorem\n",
    "\n",
    "Green's Theorem states that if $C$ is a curve enclosing a region $D$, then the let $\\vec{F}(x,y) = M(x,y)\\hat{i} + N(x,y)\\hat{j}$ be a vector field on the region $D$, then:\n",
    "\n",
    "$$ \\oint_{C}{\\vec{F}(x,y)\\cdot d\\vec{r}} = \\iint_{D} \\frac{\\partial N}{\\partial x} - \\frac{\\partial M}{\\partial y} \\,dx \\,dy $$"
   ]
  },
  {
   "cell_type": "markdown",
   "id": "90cbfb44",
   "metadata": {},
   "source": [
    "The term $\\vec{F}(x,y)\\cdot d\\vec{r}$ can be written as $(M(x,y)\\hat{i} + N(x,y)\\hat{j})\\cdot(dx\\hat{i} + dy\\hat{j}) = Mdx + Ndy$  \n",
    "\n",
    "Thus, Green's Theorem may be alternatively presented as:\n",
    "\n",
    "$$ \\oint_C{Mdx + Ndy} = \\iint_{D}\\frac{\\partial N}{\\partial x} - \\frac{\\partial M}{\\partial y} \\,dx \\,dy$$"
   ]
  },
  {
   "cell_type": "markdown",
   "id": "e381e9f8",
   "metadata": {},
   "source": [
    "## Intuition\n",
    "\n",
    "Consider a curve $C$ in space enclosing a region $D$ as shown below:\n",
    "\n",
    "![Curve C with region D](greens-theorem-basic.png)"
   ]
  },
  {
   "cell_type": "markdown",
   "id": "9341e00a",
   "metadata": {},
   "source": [
    "Now, here cometh the banger. We can split this large region $D$ into two smaller regions, both giving out two counter clockwise curves. We can see that the sum of the line intergrals along $C_1$ and $C_2$ will be the same as the line integral along the whole $C$. \n",
    "\n",
    "![Green's Theorem Split](greens-theorem-split.png)"
   ]
  },
  {
   "cell_type": "markdown",
   "id": "2f84e646",
   "metadata": {},
   "source": [
    "The idea from hereon is, why stop at just two? Why not split the curve into infintesimal sections? \n",
    "\n",
    "![Curve Split](greens-theorem-inf.png)\n",
    "\n",
    "Recall the concept of curl previously discussed. \n",
    "\n",
    "In meme terms,\n",
    "![Green's Theorem Meme](greens-theorem-meme.png)"
   ]
  },
  {
   "cell_type": "markdown",
   "id": "cdb1d65e",
   "metadata": {},
   "source": []
  }
 ],
 "metadata": {
  "kernelspec": {
   "display_name": "Python 3 (ipykernel)",
   "language": "python",
   "name": "python3"
  },
  "language_info": {
   "codemirror_mode": {
    "name": "ipython",
    "version": 3
   },
   "file_extension": ".py",
   "mimetype": "text/x-python",
   "name": "python",
   "nbconvert_exporter": "python",
   "pygments_lexer": "ipython3",
   "version": "3.11.0"
  }
 },
 "nbformat": 4,
 "nbformat_minor": 5
}
